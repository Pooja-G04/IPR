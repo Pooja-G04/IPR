{
 "cells": [
  {
   "cell_type": "code",
   "execution_count": 46,
   "metadata": {},
   "outputs": [
    {
     "name": "stdout",
     "output_type": "stream",
     "text": [
      "\n",
      "eps1 148.2807058242058\n",
      "eps2 0.29520711444561365\n",
      "eps1+eps2: 148.5759129386514\n"
     ]
    },
    {
     "data": {
      "text/plain": [
       "[0.33106630746093,\n",
       " -2.22523932309321,\n",
       " 2.50286397794446,\n",
       " 0.18318904604565,\n",
       " -0.18171048586718,\n",
       " 0.48735151578291,\n",
       " 0.16825901171291,\n",
       " 1.32225884340926,\n",
       " -3.20762935165731,\n",
       " 0.18832242950032,\n",
       " -1.96235057319441,\n",
       " 2.46360013878213,\n",
       " 0.19297432952182,\n",
       " 1.39022728486336,\n",
       " -2.83667653035963,\n",
       " -0.19342803926994,\n",
       " 0.18399680240456,\n",
       " -2.74066539581587,\n",
       " -0.15794352372423,\n",
       " 1.6604530320492,\n",
       " 2.15953688129414,\n",
       " -0.22027615575678,\n",
       " -1.68520090536719,\n",
       " -2.73536850799912,\n",
       " 0.03301393352949,\n",
       " -0.01453070784789,\n",
       " 1.76960437296316,\n",
       " 0.22595635221298,\n",
       " -0.70033943516761,\n",
       " 2.1724725141987]"
      ]
     },
     "execution_count": 46,
     "metadata": {},
     "output_type": "execute_result"
    }
   ],
   "source": [
    "# RHS as mu*sinh(mu*y) -- NonLinear\n",
    "# March 20 2022\n",
    "# Boundary Conditions : y(0)=0, y(1)=1\n",
    "# Plotting equation (3) from paper -> y(t) vs t\n",
    "# y(t)= sum (1,nn)[alphai(e_fun)]\n",
    "import math\n",
    "import random\n",
    "import numpy as np\n",
    "\n",
    "#Declaring mu\n",
    "mu=0.25\n",
    "\n",
    "#Values we got for X\n",
    "\n",
    "#(-0.74884236,  0.07157031,  0.09660516,  0.25548166,  0.06860153,\n",
    "#       -0.00288796,  0.2584744 ,  0.08552833,  0.01897233,  0.02253565,\n",
    "#        0.10360586,  0.10009348,  0.02253565,  0.10360586,  0.10009348,\n",
    "#        0.02253565,  0.10360586,  0.10009348,  0.02253565,  0.10360586,\n",
    "#        0.10009348,  0.02253565,  0.10360586,  0.10009348,  0.02253565,\n",
    "#        0.10360586,  0.10009348,  0.10120184,  0.09443976,  0.01500584)\n",
    "\n",
    "#Small functions for clarity\n",
    "def e_fun(b,w,t):\n",
    "    return math.exp(-((w*t+b)**2))\n",
    "\n",
    "#Functions for calculating eps1 and eps2\n",
    "# At every time point, calculate for all neurons. \n",
    "def eps1(x,time,nn):\n",
    "    eps1=0\n",
    "    realx=x\n",
    "    time_points=np.linspace(0,1,time+1)\n",
    "    for t in time_points:\n",
    "        #print(t)\n",
    "        \n",
    "        #lOOPING OVER NN NEURONS FOR Y\n",
    "        y_fun=0\n",
    "        for i in range(0,nn):\n",
    "            y_fun=y_fun+x[0]*e_fun(x[1],x[2],t)\n",
    "            if len(x)>3:\n",
    "                idx_list = [0,1,2]\n",
    "                x = [ele for idx, ele in enumerate(x) if idx not in idx_list]\n",
    "        #print(\"y_fun\",y_fun)\n",
    "        \n",
    "        #lOOPING OVER NN NEURONS FOR D2Y/DT2\n",
    "        sum=0\n",
    "        for i in range(0,nn):\n",
    "            #print(\"Input variables for eps1:\", x)            \n",
    "            sum=sum+(x[0]*x[2]**2*e_fun(x[1],x[2],t)*(-2 + 4*(x[2]*t+x[1])**2))\n",
    "            if len(x)>3:\n",
    "                idx_list = [0,1,2]\n",
    "                x = [ele for idx, ele in enumerate(x) if idx not in idx_list]\n",
    "                \n",
    "        diff2 = (sum - mu*math.sinh(mu*y_fun))**2\n",
    "        x=realx\n",
    "        #print(\"diff2\",diff2)\n",
    "        #print(\"At Time\", t,\":-\")\n",
    "        #print(\"eps1: \", sum)\n",
    "        eps1=eps1+diff2/(time+1)\n",
    "        \n",
    "    return eps1\n",
    "\n",
    "def eps2(x,nn):\n",
    "    \n",
    "    y_fun_y0=0\n",
    "    y_fun_y1=0\n",
    "    for i in range(0,nn):\n",
    "            y_fun_y0=y_fun_y0+x[0]*e_fun(x[1],x[2],0)\n",
    "            if len(x)>3:\n",
    "                idx_list = [0,1,2]\n",
    "                x = [ele for idx, ele in enumerate(x) if idx not in idx_list]\n",
    "            #print(\"y_fun_y0\",y_fun_y0)\n",
    "    for i in range(0,nn):\n",
    "            y_fun_y1=y_fun_y1+x[0]*e_fun(x[1],x[2],1)\n",
    "            if len(x)>3:\n",
    "                idx_list = [0,1,2]\n",
    "                x = [ele for idx, ele in enumerate(x) if idx not in idx_list]\n",
    "            #print(\"y_fun_y1\",y_fun_y1)\n",
    "    \n",
    "            #print(\"Input variables for eps2:\", x)\n",
    "    eps2=(1/2)*((y_fun_y0)**2 + (y_fun_y1-1)**2)\n",
    "    #print(eps2)\n",
    "            \n",
    "    return eps2\n",
    "        \n",
    "\n",
    "# Input Arguments\n",
    "# X contains values of alpha, beta, and omega respectively for every neuron\n",
    "def main(x,nn,time):\n",
    "    #x=[1,0,1]\n",
    "    #for i in range(0,nn*3):\n",
    "        #n = random.randint(0,1)\n",
    "        #x.append(n)\n",
    "    \n",
    "    if len(x)!=3*nn:\n",
    "        print(\"Incorrect number of variables!!\")\n",
    "    else:\n",
    "        print(\"\\neps1\", eps1(x, time, nn))\n",
    "        print(\"eps2\",eps2(x,nn))    \n",
    "        print(\"eps1+eps2:\",eps1(x, time, nn)+eps2(x,nn))\n",
    "        return x\n",
    "\n",
    "# Arguments : x, nn, time\n",
    "#x=[-0.74884236,  0.07157031,  0.09660516,  0.25548166,  0.06860153,-0.00288796,  0.2584744 ,  0.08552833,  0.01897233,  0.02253565,0.10360586,  0.10009348,  0.02253565,  0.10360586,  0.10009348,0.02253565,  0.10360586,  0.10009348,  0.02253565,  0.10360586,0.10009348,  0.02253565,  0.10360586,  0.10009348,  0.02253565,0.10360586,  0.10009348,  0.10120184,  0.09443976,  0.01500584]\n",
    "x = [0.33106630746093,-2.22523932309321,2.50286397794446,0.18318904604565,-0.18171048586718,0.48735151578291,0.16825901171291,1.32225884340926,-3.20762935165731,0.18832242950032,-1.96235057319441,2.46360013878213,0.19297432952182,1.39022728486336,-2.83667653035963,-0.19342803926994,0.18399680240456,-2.74066539581587,-0.15794352372423,1.66045303204920,2.15953688129414,-0.22027615575678,-1.68520090536719,-2.73536850799912,0.03301393352949,-0.01453070784789,1.76960437296316,0.22595635221298,-0.70033943516761,2.17247251419870 ]\n",
    "\n",
    "main(x, 10, 10)\n",
    "#[1,0,1,1,0,1,0.3,0.4,0.5]"
   ]
  },
  {
   "cell_type": "code",
   "execution_count": 54,
   "metadata": {},
   "outputs": [
    {
     "data": {
      "image/png": "[encoded data removed]",
      "text/plain": [
       "<Figure size 432x288 with 1 Axes>"
      ]
     },
     "metadata": {
      "needs_background": "light"
     },
     "output_type": "display_data"
    }
   ],
   "source": [
    "import matplotlib.pyplot as plt\n",
    "def my_func(x,nn,time):\n",
    "    t_list=[]\n",
    "    y_list=[]\n",
    "    eps1=0\n",
    "    realx=x\n",
    "    time_points=np.linspace(0,1,time+1)\n",
    "    for t in time_points:\n",
    "        #print(\"time: \",t)\n",
    "        \n",
    "        #lOOPING OVER NN NEURONS FOR Y\n",
    "        y_fun=0\n",
    "        for i in range(0,nn):\n",
    "            #print(t)\n",
    "            y_fun=y_fun+(x[0]*e_fun(x[1],x[2],t))\n",
    "            if len(x)>3:\n",
    "                idx_list = [0,1,2]\n",
    "                x = [ele for idx, ele in enumerate(x) if idx not in idx_list]\n",
    "       \n",
    "        t_list.append(t)\n",
    "        y_list.append(y_fun)\n",
    "        x=realx       \n",
    "        \n",
    "    #print(\"Y_list\",y_list)\n",
    "    #print(\"t_list\", t_list)\n",
    "    plt.scatter(t_list,y_list)\n",
    "    plt.plot(t_list,y_list)\n",
    "    plt.show()\n",
    "#print(len(x))\n",
    "#print(x)\n",
    "x_mudiff=[0.49195021783858, 0.03613145789406, -0.31916628988347, 0.41060803166618, 0.52730156513132,-3.00797291766790, -0.55024529044115, 0.85123504425867,-1.88376144935215,0.78758840332611,-3.15193861155268,5.16785920687814 , -0.49912762826986, -1.73577517883465,-4.28694087071249 , 0.39997772439985, -0.95613528078345, 1.43836302827019,-0.62116332488245, -1.10231737498492,0.66127660670523,0.18876028749915, -0.38480301484296, 1.72298784992421,-0.16564943142555, 1.11190804500174, 1.89110086745495,-0.23815862345712, -0.43648258187640, 1.10326284877928 ] \n",
    "my_func(x_mudiff,10,20)  # Input Arguments = x, nn, time grids            "
   ]
  },
  {
   "cell_type": "code",
   "execution_count": 38,
   "metadata": {},
   "outputs": [
    {
     "data": {
      "text/plain": [
       "0.36787944117144233"
      ]
     },
     "execution_count": 38,
     "metadata": {},
     "output_type": "execute_result"
    }
   ],
   "source": [
    "def e_fun(b,w,t):\n",
    "    return math.exp(-(w*t+b)**2)\n",
    "e_fun(0,1,1)"
   ]
  },
  {
   "cell_type": "code",
   "execution_count": null,
   "metadata": {},
   "outputs": [],
   "source": [
    "x_mudiff=[0.49195021783858, 0.03613145789406, -0.31916628988347, 0.41060803166618, 0.52730156513132,-3.00797291766790, -0.55024529044115, 0.85123504425867,-1.88376144935215,0.78758840332611,-3.15193861155268,5.16785920687814 , -0.49912762826986, -1.73577517883465,-4.28694087071249 , 0.39997772439985, -0.95613528078345, 1.43836302827019,-0.62116332488245, -1.10231737498492,0.66127660670523,0.18876028749915, -0.38480301484296, 1.72298784992421,-0.16564943142555, 1.11190804500174, 1.89110086745495,-0.23815862345712, -0.43648258187640, 1.10326284877928 ] "
   ]
  }
 ],
 "metadata": {
  "kernelspec": {
   "display_name": "Python 3",
   "language": "python",
   "name": "python3"
  },
  "language_info": {
   "codemirror_mode": {
    "name": "ipython",
    "version": 3
   },
   "file_extension": ".py",
   "mimetype": "text/x-python",
   "name": "python",
   "nbconvert_exporter": "python",
   "pygments_lexer": "ipython3",
   "version": "3.8.5"
  }
 },
 "nbformat": 4,
 "nbformat_minor": 4
}
