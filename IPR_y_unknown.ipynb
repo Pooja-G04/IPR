{
 "cells": [
  {
   "cell_type": "markdown",
   "metadata": {},
   "source": [
    "## Iterative Process"
   ]
  },
  {
   "cell_type": "code",
   "execution_count": null,
   "metadata": {},
   "outputs": [],
   "source": []
  },
  {
   "cell_type": "code",
   "execution_count": 26,
   "metadata": {},
   "outputs": [
    {
     "name": "stdout",
     "output_type": "stream",
     "text": [
      "Iteration  2 Error:  0.006528000000000089\n",
      "Iteration  3 Error:  0.0006758399999999831\n",
      "Iteration  4 Error:  7.051263999990898e-05\n",
      "Iteration  5 Error:  7.376076800014175e-06\n",
      "Iteration  6 Error:  7.721910271207832e-07\n",
      "Iteration  7 Error:  8.085779246158609e-08\n",
      "Iteration  8 Error:  8.467330836481324e-09\n",
      "Iteration  9 Error:  8.867043765903304e-10\n",
      "Iteration  10 Error:  9.285672231129638e-11\n",
      "Iteration  11 Error:  9.723999383481896e-12\n"
     ]
    },
    {
     "data": {
      "image/png": "[encoded data removed]",
      "text/plain": [
       "<Figure size 360x576 with 1 Axes>"
      ]
     },
     "metadata": {
      "needs_background": "light"
     },
     "output_type": "display_data"
    }
   ],
   "source": [
    "#####################################################################\n",
    "# For Academic Projects - R Ganesh, IPR                             # \n",
    "# Feb-May 2022                                                      #\n",
    "# y'' = y where c is consant, y(t0)=0, y(tend)=rightboundaryvalue   #\n",
    "# Let us solve using finite difference method with grid points n    #\n",
    "#####################################################################\n",
    "# Other free sources : http://www.gnu.org/software/octave/          #\n",
    "# Other free sources : http://www.scilab.org                        #\n",
    "# Other `restricted' sources : http://www.gnu.org/software/gsl/     #\n",
    "#####################################################################\n",
    "import numpy as np\n",
    "import matplotlib.pyplot as plt\n",
    "from numpy import*\n",
    "import math\n",
    "from pylab import * # for plotting commands\n",
    "#####################################################################    \n",
    "# In the example below, the following values are used\n",
    "# t0=0.0, tend=5.0, n=12, constant c=9.8, rightboundaryvalue=10\n",
    "#####################################################################    \n",
    "\n",
    "plt.style.use('seaborn-poster')\n",
    "# n+1 is the number of points\n",
    "n = 5  #grid size\n",
    "t0=0.0  #Boundary values defined\n",
    "tend=1.0\n",
    "c0=9.8\n",
    "rightboundaryvalue=1\n",
    "h = (tend - t0) / n\n",
    "t = np.linspace(t0, tend, n+1)\n",
    "\n",
    "# Get C\n",
    "c=np.zeros(n+1)\n",
    "for i in range(0,n+1):\n",
    "    c[i]=t[i]  # guess sol\n",
    "#plt.plot(t,c)\n",
    "    \n",
    "# Get A -> LHS\n",
    "A = np.zeros((n+1, n+1)) #returns a new array of shape n1, n+1 filled with zeroes\n",
    "A[0, 0] = 1\n",
    "A[n, n] = 1\n",
    "for i in range(1, n):\n",
    "    A[i, i-1] = 1\n",
    "    A[i, i] = -2\n",
    "    A[i, i+1] = 1\n",
    "\n",
    "\n",
    "\n",
    "#Loop Beginning\n",
    "iteration=1\n",
    "ynew=[]\n",
    "while (iteration<12):\n",
    "    # Get b -> RHS\n",
    "    b = np.zeros(n+1) \n",
    "    for i in range(1,n):\n",
    "        b[i] = c[i]*h**2 \n",
    "        b[-1] = rightboundaryvalue\n",
    "    # solve the linear equations\n",
    "    y = np.linalg.solve(A, b)\n",
    "    #print(y)\n",
    "    ynew.append(y) \n",
    "    #print(len(ynew))\n",
    "    c=ynew[iteration-1]\n",
    "    if (iteration>=2):\n",
    "        er= max(abs(ynew[iteration-1]-ynew[iteration-2]))\n",
    "        print(\"Iteration \",iteration, \"Error: \", er)\n",
    "    iteration=iteration+1\n",
    "\n",
    "#Loop End\n",
    "\n",
    "# Analytical Y - true value \n",
    "ytrue= (exp(t)-exp(-t))/(exp(1)-exp(-1)) #alpha = 0\n",
    "\n",
    "# Plotting \n",
    "plt.figure(figsize=(n,8))\n",
    "plt.plot(t, y, label=\"Iterative Solution\")\n",
    "plt.plot(t,ytrue, label=\"True Solution\")\n",
    "plt.xlabel('t ')\n",
    "plt.ylabel('y(t)')\n",
    "plt.legend()\n",
    "plt.show()"
   ]
  },
  {
   "cell_type": "code",
   "execution_count": 7,
   "metadata": {},
   "outputs": [
    {
     "data": {
      "text/plain": [
       "7.38905609893065"
      ]
     },
     "execution_count": 7,
     "metadata": {},
     "output_type": "execute_result"
    }
   ],
   "source": [
    "import math\n",
    "exp(2)"
   ]
  },
  {
   "cell_type": "code",
   "execution_count": null,
   "metadata": {},
   "outputs": [],
   "source": []
  }
 ],
 "metadata": {
  "kernelspec": {
   "display_name": "Python 3",
   "language": "python",
   "name": "python3"
  },
  "language_info": {
   "codemirror_mode": {
    "name": "ipython",
    "version": 3
   },
   "file_extension": ".py",
   "mimetype": "text/x-python",
   "name": "python",
   "nbconvert_exporter": "python",
   "pygments_lexer": "ipython3",
   "version": "3.8.5"
  }
 },
 "nbformat": 4,
 "nbformat_minor": 4
}
