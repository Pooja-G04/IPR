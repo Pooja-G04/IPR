{
 "cells": [
  {
   "cell_type": "code",
   "execution_count": 2,
   "metadata": {},
   "outputs": [
    {
     "name": "stdout",
     "output_type": "stream",
     "text": [
      "\n",
      "eps1 4.145393102473942\n",
      "eps2 0.1940799962335769\n",
      "eps1+eps2: 4.3394730987075185\n"
     ]
    },
    {
     "data": {
      "image/png": "[encoded data removed]",
      "text/plain": [
       "<Figure size 432x288 with 1 Axes>"
      ]
     },
     "metadata": {
      "needs_background": "light"
     },
     "output_type": "display_data"
    },
    {
     "data": {
      "image/png": "[encoded data removed]",
      "text/plain": [
       "<Figure size 432x288 with 1 Axes>"
      ]
     },
     "metadata": {
      "needs_background": "light"
     },
     "output_type": "display_data"
    }
   ],
   "source": [
    "# Goal is to get the solution to fall between the boundary values\n",
    "# Using RHS equation - mu*math.sinh(mu*y_fun)\n",
    "\n",
    "\n",
    "# After analyzing - construction of epsilon1 and epsilon2 is problematic\n",
    "# Appa's Solution fed to the minimizer does not minimize properly, but the plot is correct.\n",
    "# My solutions are wrong plots but the eps1 and eps2 values are incorrect.\n",
    "import math\n",
    "import random\n",
    "import numpy as np\n",
    "from scipy.optimize import minimize\n",
    "import matplotlib.pyplot as plt\n",
    "\n",
    "#Declaring mu\n",
    "mu=1.1\n",
    "\n",
    "#Small functions for clarity\n",
    "def e_fun(b,w,t):\n",
    "    return math.exp(-((w*t+b)**2))\n",
    "\n",
    "#Functions for calculating eps1 and eps2\n",
    "# At every time point, calculate for all neurons. \n",
    "def eps1(x,no_time_points,nn):  #pass guess values of X here. So directly from minimizer function\n",
    "    eps1=0\n",
    "    realx=x\n",
    "    time_points=np.linspace(0,1,no_time_points+1)\n",
    "    \n",
    "    for t in time_points:\n",
    "        \n",
    "        #y_nn_list=[]\n",
    "        #lOOPING OVER NN NEURONS FOR Y\n",
    "        y_fun=0\n",
    "        for i in range(0,nn):\n",
    "            y_fun=y_fun+x[0]*e_fun(x[1],x[2],t)  \n",
    "            if len(x)>3:\n",
    "                idx_list = [0,1,2]\n",
    "                x = [ele for idx, ele in enumerate(x) if idx not in idx_list]\n",
    "        #print(\"y_fun\",y_fun)\n",
    "        \n",
    "        #lOOPING OVER NN NEURONS FOR D2Y/DT2\n",
    "        lhs=0\n",
    "        for i in range(0,nn):\n",
    "            #print(\"Input variables for eps1:\", x)            \n",
    "            lhs=lhs+(x[0]*x[2]**2*e_fun(x[1],x[2],t)*(-2 + 4*(x[2]*t+x[1])**2))\n",
    "            if len(x)>3:\n",
    "                idx_list = [0,1,2]\n",
    "                x = [ele for idx, ele in enumerate(x) if idx not in idx_list]\n",
    "        \n",
    "        rhs = mu*math.sinh(mu*y_fun)\n",
    "        diff2 = (lhs - rhs)**2   #error calculation\n",
    "        #diff2 = (lhs - mu*(mu*y_fun))**2\n",
    "        #y_nn_list.append(y_fun)\n",
    "        x=realx\n",
    "        #print(\"diff2\",diff2)\n",
    "        #print(\"At Time\", t,\":-\")\n",
    "        #print(\"eps1: \", lhs)\n",
    "        eps1=eps1+diff2\n",
    "    eps1=eps1/(no_time_points+1)  # Avg error over time points (equation 19 of the paper)\n",
    "        \n",
    "    return eps1\n",
    "\n",
    "def eps2(x,nn):\n",
    "    \n",
    "    y_fun_y0=0\n",
    "    y_fun_y1=0\n",
    "    for i in range(0,nn):\n",
    "            y_fun_y0=y_fun_y0+x[0]*e_fun(x[1],x[2],0)\n",
    "            if len(x)>3:\n",
    "                idx_list = [0,1,2]\n",
    "                x = [ele for idx, ele in enumerate(x) if idx not in idx_list]\n",
    "            #print(\"y_fun_y0\",y_fun_y0)\n",
    "    for i in range(0,nn):\n",
    "            y_fun_y1=y_fun_y1+x[0]*e_fun(x[1],x[2],1)\n",
    "            if len(x)>3:\n",
    "                idx_list = [0,1,2]\n",
    "                x = [ele for idx, ele in enumerate(x) if idx not in idx_list]\n",
    "            #print(\"y_fun_y1\",y_fun_y1)\n",
    "    \n",
    "            #print(\"Input variables for eps2:\", x)\n",
    "    eps2=(1/2)*((y_fun_y0)**2 + (y_fun_y1-1)**2) \n",
    "            \n",
    "    return eps2\n",
    "        \n",
    "\n",
    "# Input Arguments\n",
    "# X contains values of alpha, beta, and omega respectively for every neuron\n",
    "def main(nn,no_time_points):\n",
    "    x=[0.889729400159815,1.69867869503220, -0.969638699738544,-2.16095046568335, 1.19539301187360, 0.453917628451353,0.527620222515402,0.346605416533454,-0.274552409293548,2.16059946844531,3.09363631237436,-1.32381820255659]\n",
    "    x=tuple(x)\n",
    "    if len(x)!=3*nn:\n",
    "        print(\"Incorrect number of variables!!\")\n",
    "    else:\n",
    "        print(\"\\neps1\", eps1(x, no_time_points, nn))\n",
    "        print(\"eps2\",eps2(x,nn))    \n",
    "        print(\"eps1+eps2:\",eps1(x, no_time_points, nn)+eps2(x,nn))\n",
    "        \n",
    "        fun = lambda x : eps1(x,no_time_points,nn)+eps2(x,nn)\n",
    "        bnds=((-4,4),(-4,4),(-4,4),(-4,4),(-4,4),(-4,4),(-4,4),(-4,4),(-4,4),(-4,4),(-4,4),(-4,4))\n",
    "        res = minimize(fun, x, bounds=bnds, method = 'SLSQP')\n",
    "        return res\n",
    "\n",
    "\n",
    "def plot_nn_sol(x):\n",
    "    y_nn_list=[]\n",
    "    nn=4\n",
    "    time_points=np.linspace(0,1,timepoints)\n",
    "    realx=x\n",
    "    for tp in time_points:\n",
    "        y_fun=0\n",
    "        for i in range(0,nn):\n",
    "            a=x[0]\n",
    "            b=x[1]\n",
    "            w=x[2]\n",
    "            #print(\"a:\",a)\n",
    "            #print(\"b:\",b)\n",
    "            #print(\"w:\",w)\n",
    "            y_fun=y_fun+a*e_fun(b,w,tp)\n",
    "            if len(x)>3:\n",
    "                idx_list = [0,1,2]\n",
    "                x = [ele for idx, ele in enumerate(x) if idx not in idx_list]\n",
    "        y_nn_list.append(y_fun)\n",
    "        x=realx\n",
    "        # Plotting NN solution\n",
    "    f1=plt.figure(1)\n",
    "    #print(len(time_points))\n",
    "    #print(len(y_nn_list))\n",
    "    plt.scatter(time_points,y_nn_list)\n",
    "    plt.plot(time_points, y_nn_list, label=\"NN Solution\", color='green')\n",
    "    #plt.plot(t, yguess, label=\"Guess Solution we started with\")\n",
    "    plt.xlabel('t ')\n",
    "    plt.ylabel('y(t) in nn')\n",
    "    plt.legend()\n",
    "    plt.show()\n",
    "        \n",
    "# Global Arguments\n",
    "# Arguments : nn, time points between 0-1 and 30 such points\n",
    "nn=4\n",
    "timepoints=30\n",
    "main(nn, timepoints)\n",
    "plot_nn_sol([-0.20619643,  0.69773948,  0.45570408, -0.20619643,  0.69773948,  ## My Values\n",
    "        0.45570408, -0.20619643,  0.69773948,  0.45570408,  0.62849187,\n",
    "        0.70775371,  0.25193396])\n",
    "plot_nn_sol([0.889729400159815,1.69867869503220, -0.969638699738544,-2.16095046568335, 1.19539301187360, 0.453917628451353,0.527620222515402,0.346605416533454,-0.274552409293548,2.16059946844531,3.09363631237436,-1.32381820255659])\n"
   ]
  },
  {
   "cell_type": "markdown",
   "metadata": {},
   "source": []
  },
  {
   "cell_type": "code",
   "execution_count": null,
   "metadata": {},
   "outputs": [],
   "source": []
  },
  {
   "cell_type": "code",
   "execution_count": 3,
   "metadata": {},
   "outputs": [
    {
     "data": {
      "image/png": "[encoded data removed]",
      "text/plain": [
       "<Figure size 432x288 with 1 Axes>"
      ]
     },
     "metadata": {
      "needs_background": "light"
     },
     "output_type": "display_data"
    }
   ],
   "source": [
    "import matplotlib.pyplot as plt\n",
    "def my_func(x,nn,time):\n",
    "    t_list=[]\n",
    "    y_list=[]\n",
    "    eps1=0\n",
    "    realx=x\n",
    "    time_points=np.linspace(0,1,time+1)\n",
    "    for t in time_points:\n",
    "        #print(\"time: \",t)\n",
    "        \n",
    "        #lOOPING OVER NN NEURONS FOR Y\n",
    "        y_fun=0\n",
    "        for i in range(0,nn):\n",
    "            #print(t)\n",
    "            y_fun=y_fun+(x[0]*e_fun(x[1],x[2],t))\n",
    "            if len(x)>3:\n",
    "                idx_list = [0,1,2]\n",
    "                x = [ele for idx, ele in enumerate(x) if idx not in idx_list]\n",
    "       \n",
    "        t_list.append(t)\n",
    "        y_list.append(y_fun)\n",
    "        x=realx       \n",
    "        \n",
    "    #print(\"Y_list\",y_list)\n",
    "    #print(\"t_list\", t_list)\n",
    "    plt.scatter(t_list,y_list)\n",
    "    plt.plot(t_list,y_list)\n",
    "    plt.show()\n",
    "#print(len(x))\n",
    "#print(x)\n",
    "x_mudiff=[0.49195021783858, 0.03613145789406, -0.31916628988347, 0.41060803166618, 0.52730156513132,-3.00797291766790, -0.55024529044115, 0.85123504425867,-1.88376144935215,0.78758840332611,-3.15193861155268,5.16785920687814 , -0.49912762826986, -1.73577517883465,-4.28694087071249 , 0.39997772439985, -0.95613528078345, 1.43836302827019,-0.62116332488245, -1.10231737498492,0.66127660670523,0.18876028749915, -0.38480301484296, 1.72298784992421,-0.16564943142555, 1.11190804500174, 1.89110086745495,-0.23815862345712, -0.43648258187640, 1.10326284877928 ] \n",
    "my_func(x_mudiff,10,20)  # Input Arguments = x, nn, time grids            "
   ]
  },
  {
   "cell_type": "code",
   "execution_count": 4,
   "metadata": {},
   "outputs": [
    {
     "data": {
      "text/plain": [
       "0.36787944117144233"
      ]
     },
     "execution_count": 4,
     "metadata": {},
     "output_type": "execute_result"
    }
   ],
   "source": [
    "def e_fun(b,w,t):\n",
    "    return math.exp(-(w*t+b)**2)\n",
    "e_fun(0,1,1)"
   ]
  },
  {
   "cell_type": "code",
   "execution_count": 5,
   "metadata": {},
   "outputs": [],
   "source": [
    "x_mudiff=[0.49195021783858, 0.03613145789406, -0.31916628988347, 0.41060803166618, 0.52730156513132,-3.00797291766790, -0.55024529044115, 0.85123504425867,-1.88376144935215,0.78758840332611,-3.15193861155268,5.16785920687814 , -0.49912762826986, -1.73577517883465,-4.28694087071249 , 0.39997772439985, -0.95613528078345, 1.43836302827019,-0.62116332488245, -1.10231737498492,0.66127660670523,0.18876028749915, -0.38480301484296, 1.72298784992421,-0.16564943142555, 1.11190804500174, 1.89110086745495,-0.23815862345712, -0.43648258187640, 1.10326284877928 ] "
   ]
  },
  {
   "cell_type": "code",
   "execution_count": null,
   "metadata": {},
   "outputs": [],
   "source": []
  },
  {
   "cell_type": "code",
   "execution_count": 6,
   "metadata": {},
   "outputs": [
    {
     "data": {
      "image/png": "[encoded data removed]",
      "text/plain": [
       "<Figure size 432x288 with 1 Axes>"
      ]
     },
     "metadata": {
      "needs_background": "light"
     },
     "output_type": "display_data"
    }
   ],
   "source": [
    "## testing the correct solution by plotting y(t) vs t and checking if the values lie between 0,1\n",
    "\n",
    "#x=[0.936573221366534,1.68456033835529,-0.943385185281893,-2.20339425358715,1.22244622290001,0.460872307770659,0.500811281268212,0.361519156998395,-0.261259465400143,2.21204369595952,3.08597679511477,-1.30550051852554]\n",
    "x=[1.8025486,   1.73971395, -0.741406 ,  -2.25805049 , 1.28977868  ,0.48725711,\n",
    "  0.4246056 ,  0.46866694 ,-0.16117151,  2.2762789 ,  3.26828962 ,-1.28297899]\n",
    "y_nn_list=[]\n",
    "nn=4\n",
    "time_points=np.linspace(0,1,timepoints)\n",
    "realx=x\n",
    "for tp in time_points:\n",
    "    y_fun=0\n",
    "    for i in range(0,nn):\n",
    "        a=x[0]\n",
    "        b=x[1]\n",
    "        w=x[2]\n",
    "        #print(\"a:\",a)\n",
    "        #print(\"b:\",b)\n",
    "        #print(\"w:\",w)\n",
    "        y_fun=y_fun+a*e_fun(b,w,tp)\n",
    "        if len(x)>3:\n",
    "            idx_list = [0,1,2]\n",
    "            x = [ele for idx, ele in enumerate(x) if idx not in idx_list]\n",
    "    y_nn_list.append(y_fun)\n",
    "    x=realx\n",
    "    # Plotting NN solution\n",
    "f1=plt.figure(1)\n",
    "#print(len(time_points))\n",
    "#print(len(y_nn_list))\n",
    "plt.scatter(time_points,y_nn_list)\n",
    "plt.plot(time_points, y_nn_list, label=\"NN Solution\", color='green')\n",
    "#plt.plot(t, yguess, label=\"Guess Solution we started with\")\n",
    "plt.xlabel('t ')\n",
    "plt.ylabel('y(t) in nn')\n",
    "plt.legend()\n",
    "plt.show()"
   ]
  },
  {
   "cell_type": "code",
   "execution_count": 7,
   "metadata": {},
   "outputs": [
    {
     "name": "stdout",
     "output_type": "stream",
     "text": [
      "     fun: 2.989089523683103\n",
      "     jac: array([0., 0., 0., 0., 0., 0., 0., 0., 0., 0., 0., 0.])\n",
      " message: 'Optimization terminated successfully'\n",
      "    nfev: 13\n",
      "     nit: 1\n",
      "    njev: 1\n",
      "  status: 0\n",
      " success: True\n",
      "       x: array([0.3, 0.3, 0.3, 0.3, 0.3, 0.3, 0.3, 0.3, 0.3, 0.3, 0.3, 0.3])\n"
     ]
    }
   ],
   "source": [
    "## testing the correct solution by only checking eps 1 results\n",
    "from scipy.optimize import minimize\n",
    "def epsiloncalc(x_guess_value, no_time_points, mu, nn):\n",
    "    y_fun0=0\n",
    "    y_fun1=0\n",
    "    eps1=0\n",
    "    realx=x_guess_value\n",
    "    time_points=np.linspace(0,1,no_time_points+1)\n",
    "    for t in time_points:\n",
    "\n",
    "        #y_nn_list=[]\n",
    "        #lOOPING OVER NN NEURONS FOR Y\n",
    "        y_fun=0\n",
    "        lhs=0\n",
    "        for i in range(0,nn):\n",
    "            a=x_guess_value[0]\n",
    "            b=x_guess_value[1]\n",
    "            w=x_guess_value[2]\n",
    "            #print(\"a:\",a)\n",
    "            #print(\"b:\",b)\n",
    "            #print(\"w:\",w)\n",
    "            y_fun=y_fun+a*e_fun(b,w,t)\n",
    "            lhs=lhs+(a*w**2*e_fun(b,w,t)*(-2 + 4*(w*t+b)**2))\n",
    "            if len(x_guess_value)>3:\n",
    "                idx_list = [0,1,2]\n",
    "                x_guess_value = [ele for idx, ele in enumerate(x_guess_value) if idx not in idx_list]\n",
    "\n",
    "        rhs = mu*math.sinh(mu*y_fun)\n",
    "        diff2 = (lhs - rhs)**2   #error calculation\n",
    "        #diff2 = (lhs - mu*(mu*y_fun))**2\n",
    "        #y_nn_list.append(y_fun)\n",
    "        x_guess_value=realx\n",
    "        #print(\"diff2\",diff2)\n",
    "        #print(\"At Time\", t,\":-\")\n",
    "        #print(\"eps1: \", lhs)\n",
    "        eps1=eps1+diff2\n",
    "    eps1=eps1/(no_time_points+1)\n",
    "    for i in range(0,nn):\n",
    "        a=x_guess_value[0]\n",
    "        b=x_guess_value[1]\n",
    "        w=x_guess_value[2]\n",
    "        #print(\"a:\",a)\n",
    "        #print(\"b:\",b)\n",
    "        #print(\"w:\",w)\n",
    "        y_fun0=y_fun0+a*e_fun(b,w,0)\n",
    "        y_fun1=y_fun1+a*e_fun(b,w,1)\n",
    "        if len(x_guess_value)>3:\n",
    "            idx_list = [0,1,2]\n",
    "            x_guess_value = [ele for idx, ele in enumerate(x_guess_value) if idx not in idx_list]\n",
    "        eps2=(1/2)*((y_fun0)**2 + (y_fun1-1)**2)\n",
    "    #print(eps1+eps2)\n",
    "    #print(\"eps1 \",eps1)\n",
    "    #print(\"eps2 \",eps2)\n",
    "    return eps1+eps2\n",
    "    \n",
    "#Global Variable\n",
    "#x_guess_value=[0.936573221366534,1.68456033835529,-0.943385185281893,-2.20339425358715,1.22244622290001,0.460872307770659,0.500811281268212,0.361519156998395,-0.261259465400143,2.21204369595952,3.08597679511477,-1.30550051852554]\n",
    "x_guess_value=[0.3,0.3,0.3,0.3,0.3,0.3,0.3,0.3,0.3,0.3,0.3,0.3]\n",
    "no_time_points=29\n",
    "nn=4\n",
    "mu=1.1\n",
    "\n",
    "#Minimizing Section\n",
    "x_guess_value=tuple(x_guess_value)\n",
    "fun = lambda x : epsiloncalc(x_guess_value, no_time_points, mu, nn)\n",
    "bnds=((-4,4),(-4,4),(-4,4),(-4,4),(-4,4),(-4,4),(-4,4),(-4,4),(-4,4),(-4,4),(-4,4),(-4,4))\n",
    "res = minimize(fun, x_guess_value, bounds=bnds, method = 'SLSQP')\n",
    "print(res)\n",
    "#epsiloncalc(x_guess_value, no_time_points, mu, nn)"
   ]
  },
  {
   "cell_type": "code",
   "execution_count": 8,
   "metadata": {},
   "outputs": [
    {
     "name": "stdout",
     "output_type": "stream",
     "text": [
      "1.1688354396722779e-08\n"
     ]
    }
   ],
   "source": [
    "## testing the correct solution by only checking eps 2 results\n",
    "y_fun0=0\n",
    "y_fun1=0\n",
    "nn=4\n",
    "x=[0.936573221366534,1.68456033835529,-0.943385185281893,-2.20339425358715,1.22244622290001,0.460872307770659,0.500811281268212,0.361519156998395,-0.261259465400143,2.21204369595952,3.08597679511477,-1.30550051852554]\n",
    "for i in range(0,nn):\n",
    "    a=x[0]\n",
    "    b=x[1]\n",
    "    w=x[2]\n",
    "    #print(\"a:\",a)\n",
    "    #print(\"b:\",b)\n",
    "    #print(\"w:\",w)\n",
    "    y_fun0=y_fun0+a*e_fun(b,w,0)\n",
    "    y_fun1=y_fun1+a*e_fun(b,w,1)\n",
    "    if len(x)>3:\n",
    "        idx_list = [0,1,2]\n",
    "        x = [ele for idx, ele in enumerate(x) if idx not in idx_list]\n",
    "eps2=(1/2)*((y_fun0)**2 + (y_fun1-1)**2) \n",
    "print(eps2)"
   ]
  },
  {
   "cell_type": "code",
   "execution_count": 9,
   "metadata": {},
   "outputs": [],
   "source": [
    "######################################################################"
   ]
  },
  {
   "cell_type": "code",
   "execution_count": 17,
   "metadata": {},
   "outputs": [
    {
     "name": "stdout",
     "output_type": "stream",
     "text": [
      "[1.8024272288812488, 1.7402305438649304, -0.741977452594889, -2.2580935825072723, 1.29007611606214, 0.4878170014882966, 0.4244365764229374, 0.4691770506909149, -0.16107510508646117, 2.2761954927171373, 3.2698588918860367, -1.2832567830405648]\n",
      "4.4203844237111434e-06\n"
     ]
    }
   ],
   "source": [
    "## testing the correct solution by only checking eps 1 results\n",
    "from scipy.optimize import minimize\n",
    "def eps1(x_guess_value, no_time_points, mu, nn):\n",
    "    y_fun0=0\n",
    "    y_fun1=0\n",
    "    eps1=0\n",
    "    realx=x_guess_value\n",
    "    time_points=np.linspace(0,1,no_time_points+1)\n",
    "    for t in time_points:\n",
    "\n",
    "        #y_nn_list=[]\n",
    "        #lOOPING OVER NN NEURONS FOR Y\n",
    "        y_fun=0\n",
    "        lhs=0\n",
    "        for i in range(0,nn):\n",
    "            a=x_guess_value[0]\n",
    "            b=x_guess_value[1]\n",
    "            w=x_guess_value[2]\n",
    "            #print(\"a:\",a)\n",
    "            #print(\"b:\",b)\n",
    "            #print(\"w:\",w)\n",
    "            y_fun=y_fun+a*e_fun(b,w,t)\n",
    "            lhs=lhs+(a*w**2*e_fun(b,w,t)*(-2 + 4*(w*t+b)**2))\n",
    "            if len(x_guess_value)>3:\n",
    "                idx_list = [0,1,2]\n",
    "                x_guess_value = [ele for idx, ele in enumerate(x_guess_value) if idx not in idx_list]\n",
    "\n",
    "        rhs = mu*math.sinh(mu*y_fun)\n",
    "        diff2 = (lhs - rhs)**2   #error calculation\n",
    "        #diff2 = (lhs - mu*(mu*y_fun))**2\n",
    "        #y_nn_list.append(y_fun)\n",
    "        x_guess_value=realx\n",
    "        #print(\"diff2\",diff2)\n",
    "        #print(\"At Time\", t,\":-\")\n",
    "        #print(\"eps1: \", lhs)\n",
    "        eps1=eps1+diff2\n",
    "    #eps1=eps1/(no_time_points+1)\n",
    "    return eps1/(no_time_points+1)\n",
    "def eps2(x_guess_value, mu, nn):\n",
    "    y_fun0=0\n",
    "    y_fun1=0\n",
    "    for i in range(0,nn):\n",
    "        a=x_guess_value[0]\n",
    "        b=x_guess_value[1]\n",
    "        w=x_guess_value[2]\n",
    "        #print(\"a:\",a)\n",
    "        #print(\"b:\",b)\n",
    "        #print(\"w:\",w)\n",
    "        y_fun0=y_fun0+a*e_fun(b,w,0)\n",
    "        y_fun1=y_fun1+a*e_fun(b,w,1)\n",
    "        if len(x_guess_value)>3:\n",
    "            idx_list = [0,1,2]\n",
    "            x_guess_value = [ele for idx, ele in enumerate(x_guess_value) if idx not in idx_list]\n",
    "        #eps2=(1/2)*((y_fun0)**2 + (y_fun1-1)**2)\n",
    "    #print(eps1+eps2)\n",
    "    #print(\"eps1 \",eps1)\n",
    "    #print(\"eps2 \",eps2)\n",
    "    return (1/2)*((y_fun0)**2 + (y_fun1-1)**2)\n",
    "    \n",
    "#Global Variable\n",
    "#x_guess_value=[0.936573221366534,1.68456033835529,-0.943385185281893,-2.20339425358715,1.22244622290001,0.460872307770659,0.500811281268212,0.361519156998395,-0.261259465400143,2.21204369595952,3.08597679511477,-1.30550051852554]\n",
    "#x_guess_value=[0.3,0.2,0.2,0.3,0.3,0.3,0.3,0.3,0.3,0.3,0.3,0.3]\n",
    "#x_guess_value=[0.936573221366534,0.6,-0.943385185281893,-2.20339425358715,1.22244622290001,0.460872307770659,0.500811281268212,0.361519156998395,-0.261259465400143,2.21204369595952,3.08597679511477,-1.30550051852554]\n",
    "#x_guess_value=[1        ,  1.7635845 , -0.56004043, -0.83785737,  1.60147995,0.67754925, -0.83786827,  1.60143412,  0.67761739, -0.83786803,1.60143884,  0.67761236]\n",
    "#x_guess_value=[1.936573221366534,1.68456033835529,-0.943385185281893,-2.20339425358715,1.22244622290001,0.460872307770659,0.500811281268212,0.361519156998395,-0.261259465400143,2.21204369595952,3.08597679511477,-1.30550051852554]\n",
    "#x_guess_value=[1.8025486,   1.73971395, -0.741406 ,  -2.25805049 , 1.28977868  ,0.48725711,0.4246056 ,  0.46866694 ,-0.16117151,  2.2762789 ,  3.26828962 ,-1.28297899]\n",
    "\n",
    "x_guess_value=[1.8071326464831454, 1.7703949466392752, -0.7650858392126566, -2.256676644378014, 1.3033052613969818, 0.4852839942170539, 0.41722449851420407, 0.47058504353604785, -0.15463450364843234, 2.2798801455162834, 3.2410810564478045, -1.318692398363056]\n",
    "\n",
    "no_time_points=29\n",
    "nn=4\n",
    "mu=1.1\n",
    "#Printing eps1 and eps2\n",
    "\n",
    "#Minimizing Section\n",
    "x_guess_value=tuple(x_guess_value)\n",
    "fun = lambda x_guess_value : eps1(x_guess_value,no_time_points, mu, nn)+eps2(x_guess_value, mu, nn)\n",
    "bnds=((-7,7),(-4,4),(-4,4),(-4,4),(-4,4),(-4,4),(-4,4),(-4,4),(-4,4),(-4,4),(-4,4),(-4,4))\n",
    "res = minimize(fun, x_guess_value, bounds=bnds, method = 'SLSQP')\n",
    "sol = res.x\n",
    "print(list(sol))\n",
    "print(res.fun)\n",
    "#print(x_guess_value)\n",
    "#print(eps1(x_guess_value,no_time_points, mu, nn))\n",
    "#print(eps2(x_guess_value, mu, nn))\n",
    "#epsiloncalc(x_guess_value, no_time_points, mu, nn)"
   ]
  },
  {
   "cell_type": "code",
   "execution_count": 18,
   "metadata": {},
   "outputs": [
    {
     "data": {
      "image/png": "[encoded data removed]",
      "text/plain": [
       "<Figure size 432x288 with 1 Axes>"
      ]
     },
     "metadata": {
      "needs_background": "light"
     },
     "output_type": "display_data"
    },
    {
     "name": "stdout",
     "output_type": "stream",
     "text": [
      "[0.00034052714722546194, 0.028461607409817933, 0.05662538684392232, 0.08486942633048271, 0.11323265295250758, 0.14175526045393017, 0.17047861516508953, 0.19944517072195994, 0.22869839529469055, 0.2582827153982776, 0.28824348066230704, 0.3186269541618839, 0.34948033302840026, 0.38085180403366703, 0.4127906386380975, 0.44534733157515033, 0.4785737863713873, 0.5125235502364744, 0.5472520994653457, 0.5828171748460091, 0.6192791645396278, 0.6567015294841949, 0.6951512635734403, 0.7346993777002078, 0.7754213932710317, 0.8173978270622645, 0.8607146453901021, 0.9054636616269977, 0.951742847262786, 0.9996565231549186]\n"
     ]
    }
   ],
   "source": [
    "## testing the correct solution by plotting y(t) vs t and checking if the values lie between 0,1\n",
    "\n",
    "#x=[0.936573221366534,1.68456033835529,-0.943385185281893,-2.20339425358715,1.22244622290001,0.460872307770659,0.500811281268212,0.361519156998395,-0.261259465400143,2.21204369595952,3.08597679511477,-1.30550051852554]\n",
    "#x=[1.8025486,   1.73971395, -0.741406 ,  -2.25805049 , 1.28977868  ,0.48725711,\n",
    "#  0.4246056 ,  0.46866694 ,-0.16117151,  2.2762789 ,  3.26828962 ,-1.28297899]\n",
    "#mu =1.2,x=[1.8071326464831454, 1.7703949466392752, -0.7650858392126566, -2.256676644378014, 1.3033052613969818, 0.4852839942170539, 0.41722449851420407, 0.47058504353604785, -0.15463450364843234, 2.2798801455162834, 3.2410810564478045, -1.318692398363056]\n",
    "x=[1.8024272288812488, 1.7402305438649304, -0.741977452594889, -2.2580935825072723, 1.29007611606214, 0.4878170014882966, 0.4244365764229374, 0.4691770506909149, -0.16107510508646117, 2.2761954927171373, 3.2698588918860367, -1.2832567830405648]\n",
    "y_nn_list=[]\n",
    "nn=4\n",
    "time_points=np.linspace(0,1,timepoints)\n",
    "realx=x\n",
    "for tp in time_points:\n",
    "    y_fun=0\n",
    "    for i in range(0,nn):\n",
    "        a=x[0]\n",
    "        b=x[1]\n",
    "        w=x[2]\n",
    "        #print(\"a:\",a)\n",
    "        #print(\"b:\",b)\n",
    "        #print(\"w:\",w)\n",
    "        y_fun=y_fun+a*e_fun(b,w,tp)\n",
    "        if len(x)>3:\n",
    "            idx_list = [0,1,2]\n",
    "            x = [ele for idx, ele in enumerate(x) if idx not in idx_list]\n",
    "    y_nn_list.append(y_fun)\n",
    "    x=realx\n",
    "    # Plotting NN solution\n",
    "f1=plt.figure(1)\n",
    "#print(len(time_points))\n",
    "#print(len(y_nn_list))\n",
    "plt.scatter(time_point,y_nn_list)\n",
    "plt.plot(time_points, y_nn_list, label=\"NN Solution\", color='green')\n",
    "#plt.plot(t, yguess, label=\"Guess Solution we started with\")\n",
    "plt.xlabel('t ')\n",
    "plt.ylabel('y(t) in nn')\n",
    "plt.legend()\n",
    "plt.show()\n",
    "print(y_nn_list)"
   ]
  },
  {
   "cell_type": "code",
   "execution_count": 12,
   "metadata": {},
   "outputs": [
    {
     "name": "stdout",
     "output_type": "stream",
     "text": [
      "     fun: 5.7861963153837175e-08\n",
      "     jac: array([-0.00945007,  0.00467212])\n",
      " message: 'Optimization terminated successfully'\n",
      "    nfev: 55\n",
      "     nit: 16\n",
      "    njev: 16\n",
      "  status: 0\n",
      " success: True\n",
      "       x: array([0.99994234, 0.99990803])\n"
     ]
    }
   ],
   "source": [
    "def f1(x):\n",
    "    return (1-x[0])**2\n",
    "def f2(x):\n",
    "    return 100*(x[1]-x[0]**2)**2\n",
    "x=[0.5,0.5]\n",
    "x=tuple(x)\n",
    "fun = lambda x : f1(x)+f2(x)\n",
    "#fun = lambda x : (1-x[0])**2+100*(x[1]-x[0]**2)**2\n",
    "#bnds=((-4,4),(-4,4),(-4,4),(-4,4),(-4,4),(-4,4),(-4,4),(-4,4),(-4,4),(-4,4),(-4,4),(-4,4))\n",
    "res = minimize(fun, x, method = 'SLSQP')\n",
    "print(res)"
   ]
  },
  {
   "cell_type": "code",
   "execution_count": null,
   "metadata": {},
   "outputs": [],
   "source": []
  },
  {
   "cell_type": "code",
   "execution_count": null,
   "metadata": {},
   "outputs": [],
   "source": []
  }
 ],
 "metadata": {
  "kernelspec": {
   "display_name": "Python 3",
   "language": "python",
   "name": "python3"
  },
  "language_info": {
   "codemirror_mode": {
    "name": "ipython",
    "version": 3
   },
   "file_extension": ".py",
   "mimetype": "text/x-python",
   "name": "python",
   "nbconvert_exporter": "python",
   "pygments_lexer": "ipython3",
   "version": "3.8.5"
  }
 },
 "nbformat": 4,
 "nbformat_minor": 4
}
